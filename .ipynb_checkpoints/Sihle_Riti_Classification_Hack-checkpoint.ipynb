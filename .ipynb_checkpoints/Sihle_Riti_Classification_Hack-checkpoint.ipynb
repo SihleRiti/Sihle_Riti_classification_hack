{
 "cells": [
  {
   "cell_type": "markdown",
   "metadata": {},
   "source": [
    "### Sihle_Riti_Classification_Hack"
   ]
  },
  {
   "cell_type": "markdown",
   "metadata": {},
   "source": [
    "## 1. Introduction\n",
    "\n",
    "South Africa is a multicultural society that is characterised by its rich linguistic diversity. Language is an indispensable tool that can be used to deepen democracy and also contribute to the social, cultural, intellectual, economic and political life of the South African society."
   ]
  },
  {
   "cell_type": "markdown",
   "metadata": {},
   "source": [
    "1. Introduction\n",
    "2. Import libraries and load data\n",
    "3. Data pre-processing\n",
    "4. Exploratory Data Analysis"
   ]
  },
  {
   "cell_type": "code",
   "execution_count": 58,
   "metadata": {},
   "outputs": [],
   "source": [
    "# Standard\n",
    "import pandas as pd\n",
    "import numpy as np\n",
    "import time\n",
    "import seaborn as sns\n",
    "import matplotlib.pyplot as plt\n",
    "%matplotlib inline\n",
    "\n",
    "# Natural language Processing\n",
    "import nltk\n",
    "import string\n",
    "import re\n",
    "from sklearn.utils import resample\n",
    "from nltk.stem import WordNetLemmatizer\n",
    "from nltk.corpus import stopwords\n",
    "from sklearn.pipeline import Pipeline\n",
    "from sklearn.feature_extraction.text import TfidfVectorizer\n",
    "\n",
    "# Models\n",
    "from sklearn.svm import LinearSVC\n",
    "from sklearn.naive_bayes import MultinomialNB\n",
    "from sklearn.tree import DecisionTreeClassifier\n",
    "from sklearn.neighbors import KNeighborsClassifier\n",
    "from sklearn.model_selection import train_test_split, KFold\n",
    "from sklearn.linear_model import LogisticRegression, SGDClassifier, RidgeClassifier\n",
    "from sklearn.model_selection import cross_val_score, GridSearchCV, RepeatedStratifiedKFold\n",
    "from sklearn.ensemble import RandomForestClassifier, AdaBoostClassifier, ExtraTreesClassifier, StackingClassifier\n",
    "\n",
    "from sklearn.metrics import classification_report, confusion_matrix, accuracy_score, f1_score, precision_score, recall_score\n",
    "\n",
    "# Performance\n",
    "from sklearn.metrics import f1_score\n",
    "from sklearn import metrics\n",
    "\n",
    "# Exploratory Data Analysis\n",
    "from sklearn.feature_extraction.text import CountVectorizer\n",
    "from wordcloud import WordCloud, STOPWORDS"
   ]
  },
  {
   "cell_type": "markdown",
   "metadata": {},
   "source": [
    "## 2: Import libraries and load data"
   ]
  },
  {
   "cell_type": "code",
   "execution_count": 59,
   "metadata": {},
   "outputs": [],
   "source": [
    "train = pd.read_csv('train_set.csv')\n",
    "test = pd.read_csv('test_set.csv')\n",
    "sample = pd.read_csv('sample_submission.csv')"
   ]
  },
  {
   "cell_type": "code",
   "execution_count": 60,
   "metadata": {},
   "outputs": [
    {
     "data": {
      "text/html": [
       "<div>\n",
       "<style scoped>\n",
       "    .dataframe tbody tr th:only-of-type {\n",
       "        vertical-align: middle;\n",
       "    }\n",
       "\n",
       "    .dataframe tbody tr th {\n",
       "        vertical-align: top;\n",
       "    }\n",
       "\n",
       "    .dataframe thead th {\n",
       "        text-align: right;\n",
       "    }\n",
       "</style>\n",
       "<table border=\"1\" class=\"dataframe\">\n",
       "  <thead>\n",
       "    <tr style=\"text-align: right;\">\n",
       "      <th></th>\n",
       "      <th>lang_id</th>\n",
       "      <th>text</th>\n",
       "    </tr>\n",
       "  </thead>\n",
       "  <tbody>\n",
       "    <tr>\n",
       "      <th>0</th>\n",
       "      <td>xho</td>\n",
       "      <td>umgaqo-siseko wenza amalungiselelo kumaziko ax...</td>\n",
       "    </tr>\n",
       "    <tr>\n",
       "      <th>1</th>\n",
       "      <td>xho</td>\n",
       "      <td>i-dha iya kuba nobulumko bokubeka umsebenzi na...</td>\n",
       "    </tr>\n",
       "    <tr>\n",
       "      <th>2</th>\n",
       "      <td>eng</td>\n",
       "      <td>the province of kwazulu-natal department of tr...</td>\n",
       "    </tr>\n",
       "    <tr>\n",
       "      <th>3</th>\n",
       "      <td>nso</td>\n",
       "      <td>o netefatša gore o ba file dilo ka moka tše le...</td>\n",
       "    </tr>\n",
       "    <tr>\n",
       "      <th>4</th>\n",
       "      <td>ven</td>\n",
       "      <td>khomishini ya ndinganyiso ya mbeu yo ewa maana...</td>\n",
       "    </tr>\n",
       "    <tr>\n",
       "      <th>5</th>\n",
       "      <td>nso</td>\n",
       "      <td>dinyakišišo tše tša go dirwa gabedi ka ngwaga ...</td>\n",
       "    </tr>\n",
       "    <tr>\n",
       "      <th>6</th>\n",
       "      <td>tsn</td>\n",
       "      <td>kgetse nngwe le nngwe e e sa faposiwang mo tsh...</td>\n",
       "    </tr>\n",
       "    <tr>\n",
       "      <th>7</th>\n",
       "      <td>ven</td>\n",
       "      <td>mbadelo dze dza laelwa dzi do kwama mahatulele...</td>\n",
       "    </tr>\n",
       "    <tr>\n",
       "      <th>8</th>\n",
       "      <td>nso</td>\n",
       "      <td>maloko a dikhuduthamaga a ikarabela mongwe le ...</td>\n",
       "    </tr>\n",
       "    <tr>\n",
       "      <th>9</th>\n",
       "      <td>tsn</td>\n",
       "      <td>fa le dirisiwa lebone le tshwanetse go bontsha...</td>\n",
       "    </tr>\n",
       "    <tr>\n",
       "      <th>10</th>\n",
       "      <td>nbl</td>\n",
       "      <td>lapho inarha yangeqadi ingenwe ngokungasimthet...</td>\n",
       "    </tr>\n",
       "  </tbody>\n",
       "</table>\n",
       "</div>"
      ],
      "text/plain": [
       "   lang_id                                               text\n",
       "0      xho  umgaqo-siseko wenza amalungiselelo kumaziko ax...\n",
       "1      xho  i-dha iya kuba nobulumko bokubeka umsebenzi na...\n",
       "2      eng  the province of kwazulu-natal department of tr...\n",
       "3      nso  o netefatša gore o ba file dilo ka moka tše le...\n",
       "4      ven  khomishini ya ndinganyiso ya mbeu yo ewa maana...\n",
       "5      nso  dinyakišišo tše tša go dirwa gabedi ka ngwaga ...\n",
       "6      tsn  kgetse nngwe le nngwe e e sa faposiwang mo tsh...\n",
       "7      ven  mbadelo dze dza laelwa dzi do kwama mahatulele...\n",
       "8      nso  maloko a dikhuduthamaga a ikarabela mongwe le ...\n",
       "9      tsn  fa le dirisiwa lebone le tshwanetse go bontsha...\n",
       "10     nbl  lapho inarha yangeqadi ingenwe ngokungasimthet..."
      ]
     },
     "execution_count": 60,
     "metadata": {},
     "output_type": "execute_result"
    }
   ],
   "source": [
    "train.head(11)"
   ]
  },
  {
   "cell_type": "code",
   "execution_count": 61,
   "metadata": {},
   "outputs": [
    {
     "data": {
      "text/html": [
       "<div>\n",
       "<style scoped>\n",
       "    .dataframe tbody tr th:only-of-type {\n",
       "        vertical-align: middle;\n",
       "    }\n",
       "\n",
       "    .dataframe tbody tr th {\n",
       "        vertical-align: top;\n",
       "    }\n",
       "\n",
       "    .dataframe thead th {\n",
       "        text-align: right;\n",
       "    }\n",
       "</style>\n",
       "<table border=\"1\" class=\"dataframe\">\n",
       "  <thead>\n",
       "    <tr style=\"text-align: right;\">\n",
       "      <th></th>\n",
       "      <th>index</th>\n",
       "      <th>text</th>\n",
       "    </tr>\n",
       "  </thead>\n",
       "  <tbody>\n",
       "    <tr>\n",
       "      <th>0</th>\n",
       "      <td>1</td>\n",
       "      <td>Mmasepala, fa maemo a a kgethegileng a letlele...</td>\n",
       "    </tr>\n",
       "    <tr>\n",
       "      <th>1</th>\n",
       "      <td>2</td>\n",
       "      <td>Uzakwaziswa ngokufaneleko nakungafuneka eminye...</td>\n",
       "    </tr>\n",
       "    <tr>\n",
       "      <th>2</th>\n",
       "      <td>3</td>\n",
       "      <td>Tshivhumbeo tshi fana na ngano dza vhathu.</td>\n",
       "    </tr>\n",
       "    <tr>\n",
       "      <th>3</th>\n",
       "      <td>4</td>\n",
       "      <td>Kube inja nelikati betingevakala kutsi titsini...</td>\n",
       "    </tr>\n",
       "    <tr>\n",
       "      <th>4</th>\n",
       "      <td>5</td>\n",
       "      <td>Winste op buitelandse valuta.</td>\n",
       "    </tr>\n",
       "    <tr>\n",
       "      <th>5</th>\n",
       "      <td>6</td>\n",
       "      <td>Ke feela dilense tše hlakilego, tša pono e tee...</td>\n",
       "    </tr>\n",
       "    <tr>\n",
       "      <th>6</th>\n",
       "      <td>7</td>\n",
       "      <td>&lt;fn&gt;(762010101403 AM) 1495 Final Gems Birthing...</td>\n",
       "    </tr>\n",
       "    <tr>\n",
       "      <th>7</th>\n",
       "      <td>8</td>\n",
       "      <td>Ntjhafatso ya konteraka ya mosebetsi: Etsa bon...</td>\n",
       "    </tr>\n",
       "    <tr>\n",
       "      <th>8</th>\n",
       "      <td>9</td>\n",
       "      <td>u-GEMS uhlinzeka ngezinzuzo zemithi yezifo ezi...</td>\n",
       "    </tr>\n",
       "    <tr>\n",
       "      <th>9</th>\n",
       "      <td>10</td>\n",
       "      <td>So, on occasion, are statistics misused.</td>\n",
       "    </tr>\n",
       "    <tr>\n",
       "      <th>10</th>\n",
       "      <td>11</td>\n",
       "      <td>Janewari la ngwaga ofe kapa, dikholego tša gag...</td>\n",
       "    </tr>\n",
       "  </tbody>\n",
       "</table>\n",
       "</div>"
      ],
      "text/plain": [
       "    index                                               text\n",
       "0       1  Mmasepala, fa maemo a a kgethegileng a letlele...\n",
       "1       2  Uzakwaziswa ngokufaneleko nakungafuneka eminye...\n",
       "2       3         Tshivhumbeo tshi fana na ngano dza vhathu.\n",
       "3       4  Kube inja nelikati betingevakala kutsi titsini...\n",
       "4       5                      Winste op buitelandse valuta.\n",
       "5       6  Ke feela dilense tše hlakilego, tša pono e tee...\n",
       "6       7  <fn>(762010101403 AM) 1495 Final Gems Birthing...\n",
       "7       8  Ntjhafatso ya konteraka ya mosebetsi: Etsa bon...\n",
       "8       9  u-GEMS uhlinzeka ngezinzuzo zemithi yezifo ezi...\n",
       "9      10           So, on occasion, are statistics misused.\n",
       "10     11  Janewari la ngwaga ofe kapa, dikholego tša gag..."
      ]
     },
     "execution_count": 61,
     "metadata": {},
     "output_type": "execute_result"
    }
   ],
   "source": [
    "test.head(11)"
   ]
  },
  {
   "cell_type": "code",
   "execution_count": 62,
   "metadata": {},
   "outputs": [
    {
     "data": {
      "text/html": [
       "<div>\n",
       "<style scoped>\n",
       "    .dataframe tbody tr th:only-of-type {\n",
       "        vertical-align: middle;\n",
       "    }\n",
       "\n",
       "    .dataframe tbody tr th {\n",
       "        vertical-align: top;\n",
       "    }\n",
       "\n",
       "    .dataframe thead th {\n",
       "        text-align: right;\n",
       "    }\n",
       "</style>\n",
       "<table border=\"1\" class=\"dataframe\">\n",
       "  <thead>\n",
       "    <tr style=\"text-align: right;\">\n",
       "      <th></th>\n",
       "      <th>index</th>\n",
       "      <th>lang_id</th>\n",
       "    </tr>\n",
       "  </thead>\n",
       "  <tbody>\n",
       "    <tr>\n",
       "      <th>0</th>\n",
       "      <td>1</td>\n",
       "      <td>tsn</td>\n",
       "    </tr>\n",
       "    <tr>\n",
       "      <th>1</th>\n",
       "      <td>2</td>\n",
       "      <td>nbl</td>\n",
       "    </tr>\n",
       "  </tbody>\n",
       "</table>\n",
       "</div>"
      ],
      "text/plain": [
       "   index lang_id\n",
       "0      1     tsn\n",
       "1      2     nbl"
      ]
     },
     "execution_count": 62,
     "metadata": {},
     "output_type": "execute_result"
    }
   ],
   "source": [
    "sample.head()"
   ]
  },
  {
   "cell_type": "code",
   "execution_count": 63,
   "metadata": {},
   "outputs": [],
   "source": [
    "def clean_text(text):\n",
    "\n",
    "    # change all words into lower case\n",
    "    text = text.lower()\n",
    "\n",
    "    # replace all url-links with url-web\n",
    "    url = r'http[s]?://(?:[A-Za-z]|[0-9]|[$-_@.&+]|[!*\\(\\),]|(?:%[0-9A-Fa-f][0-9A-Fa-f]))+'\n",
    "    web = 'url-web'\n",
    "    text = re.sub(url, web, text)\n",
    "    # removing all punctuation and digits\n",
    "    text = re.sub(r'[-]',' ', text)\n",
    "    text = re.sub(r'[_]', ' ',  text)\n",
    "    text = re.sub(r'[^\\w\\s]','', text)\n",
    "    text = re.sub('[0-9]+', '',  text) \n",
    "    text = re.sub(r'[!\"#$%&()*+,-./:;<=>?@[\\]^_`{|}~âã¢¬¦¢’‘‚…]', ' ',  text)\n",
    "    text = re.sub(\"â|ã\", \" \",  text)  # removes strange character \n",
    "    text = re.sub(\"\\\\s+\", \" \",  text)  # fills white spaces\n",
    "    text =  text.lstrip()  # removes whitespaces before string\n",
    "    text =  text.rstrip()  # removes whitespaces after string \n",
    "    \n",
    "\n",
    "    text = re.sub(\"â|ã\", \" \", text)  # removes strange character    \n",
    "    text = re.sub(\"\\\\s+\", \" \", text)  # fills white spaces\n",
    "    text = text.lstrip()  # removes whitespaces before string\n",
    "    text = text.rstrip()  # removes whitespaces after string \n",
    "    return text"
   ]
  },
  {
   "cell_type": "code",
   "execution_count": 64,
   "metadata": {},
   "outputs": [],
   "source": [
    "#Apply the clean function to our train and test data\n",
    "train['clean_text']=train['text'].apply(clean_text)\n",
    "test['clean_text']=test['text'].apply(clean_text)"
   ]
  },
  {
   "cell_type": "code",
   "execution_count": 65,
   "metadata": {},
   "outputs": [
    {
     "data": {
      "text/html": [
       "<div>\n",
       "<style scoped>\n",
       "    .dataframe tbody tr th:only-of-type {\n",
       "        vertical-align: middle;\n",
       "    }\n",
       "\n",
       "    .dataframe tbody tr th {\n",
       "        vertical-align: top;\n",
       "    }\n",
       "\n",
       "    .dataframe thead th {\n",
       "        text-align: right;\n",
       "    }\n",
       "</style>\n",
       "<table border=\"1\" class=\"dataframe\">\n",
       "  <thead>\n",
       "    <tr style=\"text-align: right;\">\n",
       "      <th></th>\n",
       "      <th>lang_id</th>\n",
       "      <th>text</th>\n",
       "      <th>clean_text</th>\n",
       "    </tr>\n",
       "  </thead>\n",
       "  <tbody>\n",
       "    <tr>\n",
       "      <th>0</th>\n",
       "      <td>xho</td>\n",
       "      <td>umgaqo-siseko wenza amalungiselelo kumaziko ax...</td>\n",
       "      <td>umgaqo siseko wenza amalungiselelo kumaziko ax...</td>\n",
       "    </tr>\n",
       "    <tr>\n",
       "      <th>1</th>\n",
       "      <td>xho</td>\n",
       "      <td>i-dha iya kuba nobulumko bokubeka umsebenzi na...</td>\n",
       "      <td>i dha iya kuba nobulumko bokubeka umsebenzi na...</td>\n",
       "    </tr>\n",
       "    <tr>\n",
       "      <th>2</th>\n",
       "      <td>eng</td>\n",
       "      <td>the province of kwazulu-natal department of tr...</td>\n",
       "      <td>the province of kwazulu natal department of tr...</td>\n",
       "    </tr>\n",
       "    <tr>\n",
       "      <th>3</th>\n",
       "      <td>nso</td>\n",
       "      <td>o netefatša gore o ba file dilo ka moka tše le...</td>\n",
       "      <td>o netefatša gore o ba file dilo ka moka tše le...</td>\n",
       "    </tr>\n",
       "    <tr>\n",
       "      <th>4</th>\n",
       "      <td>ven</td>\n",
       "      <td>khomishini ya ndinganyiso ya mbeu yo ewa maana...</td>\n",
       "      <td>khomishini ya ndinganyiso ya mbeu yo ewa maana...</td>\n",
       "    </tr>\n",
       "    <tr>\n",
       "      <th>5</th>\n",
       "      <td>nso</td>\n",
       "      <td>dinyakišišo tše tša go dirwa gabedi ka ngwaga ...</td>\n",
       "      <td>dinyakišišo tše tša go dirwa gabedi ka ngwaga ...</td>\n",
       "    </tr>\n",
       "    <tr>\n",
       "      <th>6</th>\n",
       "      <td>tsn</td>\n",
       "      <td>kgetse nngwe le nngwe e e sa faposiwang mo tsh...</td>\n",
       "      <td>kgetse nngwe le nngwe e e sa faposiwang mo tsh...</td>\n",
       "    </tr>\n",
       "    <tr>\n",
       "      <th>7</th>\n",
       "      <td>ven</td>\n",
       "      <td>mbadelo dze dza laelwa dzi do kwama mahatulele...</td>\n",
       "      <td>mbadelo dze dza laelwa dzi do kwama mahatulele...</td>\n",
       "    </tr>\n",
       "    <tr>\n",
       "      <th>8</th>\n",
       "      <td>nso</td>\n",
       "      <td>maloko a dikhuduthamaga a ikarabela mongwe le ...</td>\n",
       "      <td>maloko a dikhuduthamaga a ikarabela mongwe le ...</td>\n",
       "    </tr>\n",
       "    <tr>\n",
       "      <th>9</th>\n",
       "      <td>tsn</td>\n",
       "      <td>fa le dirisiwa lebone le tshwanetse go bontsha...</td>\n",
       "      <td>fa le dirisiwa lebone le tshwanetse go bontsha...</td>\n",
       "    </tr>\n",
       "    <tr>\n",
       "      <th>10</th>\n",
       "      <td>nbl</td>\n",
       "      <td>lapho inarha yangeqadi ingenwe ngokungasimthet...</td>\n",
       "      <td>lapho inarha yangeqadi ingenwe ngokungasimthet...</td>\n",
       "    </tr>\n",
       "  </tbody>\n",
       "</table>\n",
       "</div>"
      ],
      "text/plain": [
       "   lang_id                                               text  \\\n",
       "0      xho  umgaqo-siseko wenza amalungiselelo kumaziko ax...   \n",
       "1      xho  i-dha iya kuba nobulumko bokubeka umsebenzi na...   \n",
       "2      eng  the province of kwazulu-natal department of tr...   \n",
       "3      nso  o netefatša gore o ba file dilo ka moka tše le...   \n",
       "4      ven  khomishini ya ndinganyiso ya mbeu yo ewa maana...   \n",
       "5      nso  dinyakišišo tše tša go dirwa gabedi ka ngwaga ...   \n",
       "6      tsn  kgetse nngwe le nngwe e e sa faposiwang mo tsh...   \n",
       "7      ven  mbadelo dze dza laelwa dzi do kwama mahatulele...   \n",
       "8      nso  maloko a dikhuduthamaga a ikarabela mongwe le ...   \n",
       "9      tsn  fa le dirisiwa lebone le tshwanetse go bontsha...   \n",
       "10     nbl  lapho inarha yangeqadi ingenwe ngokungasimthet...   \n",
       "\n",
       "                                           clean_text  \n",
       "0   umgaqo siseko wenza amalungiselelo kumaziko ax...  \n",
       "1   i dha iya kuba nobulumko bokubeka umsebenzi na...  \n",
       "2   the province of kwazulu natal department of tr...  \n",
       "3   o netefatša gore o ba file dilo ka moka tše le...  \n",
       "4   khomishini ya ndinganyiso ya mbeu yo ewa maana...  \n",
       "5   dinyakišišo tše tša go dirwa gabedi ka ngwaga ...  \n",
       "6   kgetse nngwe le nngwe e e sa faposiwang mo tsh...  \n",
       "7   mbadelo dze dza laelwa dzi do kwama mahatulele...  \n",
       "8   maloko a dikhuduthamaga a ikarabela mongwe le ...  \n",
       "9   fa le dirisiwa lebone le tshwanetse go bontsha...  \n",
       "10  lapho inarha yangeqadi ingenwe ngokungasimthet...  "
      ]
     },
     "execution_count": 65,
     "metadata": {},
     "output_type": "execute_result"
    }
   ],
   "source": [
    "train.head(11)"
   ]
  },
  {
   "cell_type": "code",
   "execution_count": 66,
   "metadata": {},
   "outputs": [
    {
     "data": {
      "text/html": [
       "<div>\n",
       "<style scoped>\n",
       "    .dataframe tbody tr th:only-of-type {\n",
       "        vertical-align: middle;\n",
       "    }\n",
       "\n",
       "    .dataframe tbody tr th {\n",
       "        vertical-align: top;\n",
       "    }\n",
       "\n",
       "    .dataframe thead th {\n",
       "        text-align: right;\n",
       "    }\n",
       "</style>\n",
       "<table border=\"1\" class=\"dataframe\">\n",
       "  <thead>\n",
       "    <tr style=\"text-align: right;\">\n",
       "      <th></th>\n",
       "      <th>index</th>\n",
       "      <th>text</th>\n",
       "      <th>clean_text</th>\n",
       "    </tr>\n",
       "  </thead>\n",
       "  <tbody>\n",
       "    <tr>\n",
       "      <th>0</th>\n",
       "      <td>1</td>\n",
       "      <td>Mmasepala, fa maemo a a kgethegileng a letlele...</td>\n",
       "      <td>mmasepala fa maemo a a kgethegileng a letlelel...</td>\n",
       "    </tr>\n",
       "    <tr>\n",
       "      <th>1</th>\n",
       "      <td>2</td>\n",
       "      <td>Uzakwaziswa ngokufaneleko nakungafuneka eminye...</td>\n",
       "      <td>uzakwaziswa ngokufaneleko nakungafuneka eminye...</td>\n",
       "    </tr>\n",
       "    <tr>\n",
       "      <th>2</th>\n",
       "      <td>3</td>\n",
       "      <td>Tshivhumbeo tshi fana na ngano dza vhathu.</td>\n",
       "      <td>tshivhumbeo tshi fana na ngano dza vhathu</td>\n",
       "    </tr>\n",
       "    <tr>\n",
       "      <th>3</th>\n",
       "      <td>4</td>\n",
       "      <td>Kube inja nelikati betingevakala kutsi titsini...</td>\n",
       "      <td>kube inja nelikati betingevakala kutsi titsini...</td>\n",
       "    </tr>\n",
       "    <tr>\n",
       "      <th>4</th>\n",
       "      <td>5</td>\n",
       "      <td>Winste op buitelandse valuta.</td>\n",
       "      <td>winste op buitelandse valuta</td>\n",
       "    </tr>\n",
       "    <tr>\n",
       "      <th>5</th>\n",
       "      <td>6</td>\n",
       "      <td>Ke feela dilense tše hlakilego, tša pono e tee...</td>\n",
       "      <td>ke feela dilense tše hlakilego tša pono e tee ...</td>\n",
       "    </tr>\n",
       "    <tr>\n",
       "      <th>6</th>\n",
       "      <td>7</td>\n",
       "      <td>&lt;fn&gt;(762010101403 AM) 1495 Final Gems Birthing...</td>\n",
       "      <td>fn am final gems birthing options zulutxtfn</td>\n",
       "    </tr>\n",
       "    <tr>\n",
       "      <th>7</th>\n",
       "      <td>8</td>\n",
       "      <td>Ntjhafatso ya konteraka ya mosebetsi: Etsa bon...</td>\n",
       "      <td>ntjhafatso ya konteraka ya mosebetsi etsa bonn...</td>\n",
       "    </tr>\n",
       "    <tr>\n",
       "      <th>8</th>\n",
       "      <td>9</td>\n",
       "      <td>u-GEMS uhlinzeka ngezinzuzo zemithi yezifo ezi...</td>\n",
       "      <td>u gems uhlinzeka ngezinzuzo zemithi yezifo ezi...</td>\n",
       "    </tr>\n",
       "    <tr>\n",
       "      <th>9</th>\n",
       "      <td>10</td>\n",
       "      <td>So, on occasion, are statistics misused.</td>\n",
       "      <td>so on occasion are statistics misused</td>\n",
       "    </tr>\n",
       "    <tr>\n",
       "      <th>10</th>\n",
       "      <td>11</td>\n",
       "      <td>Janewari la ngwaga ofe kapa, dikholego tša gag...</td>\n",
       "      <td>janewari la ngwaga ofe kapa dikholego tša gago...</td>\n",
       "    </tr>\n",
       "  </tbody>\n",
       "</table>\n",
       "</div>"
      ],
      "text/plain": [
       "    index                                               text  \\\n",
       "0       1  Mmasepala, fa maemo a a kgethegileng a letlele...   \n",
       "1       2  Uzakwaziswa ngokufaneleko nakungafuneka eminye...   \n",
       "2       3         Tshivhumbeo tshi fana na ngano dza vhathu.   \n",
       "3       4  Kube inja nelikati betingevakala kutsi titsini...   \n",
       "4       5                      Winste op buitelandse valuta.   \n",
       "5       6  Ke feela dilense tše hlakilego, tša pono e tee...   \n",
       "6       7  <fn>(762010101403 AM) 1495 Final Gems Birthing...   \n",
       "7       8  Ntjhafatso ya konteraka ya mosebetsi: Etsa bon...   \n",
       "8       9  u-GEMS uhlinzeka ngezinzuzo zemithi yezifo ezi...   \n",
       "9      10           So, on occasion, are statistics misused.   \n",
       "10     11  Janewari la ngwaga ofe kapa, dikholego tša gag...   \n",
       "\n",
       "                                           clean_text  \n",
       "0   mmasepala fa maemo a a kgethegileng a letlelel...  \n",
       "1   uzakwaziswa ngokufaneleko nakungafuneka eminye...  \n",
       "2           tshivhumbeo tshi fana na ngano dza vhathu  \n",
       "3   kube inja nelikati betingevakala kutsi titsini...  \n",
       "4                        winste op buitelandse valuta  \n",
       "5   ke feela dilense tše hlakilego tša pono e tee ...  \n",
       "6         fn am final gems birthing options zulutxtfn  \n",
       "7   ntjhafatso ya konteraka ya mosebetsi etsa bonn...  \n",
       "8   u gems uhlinzeka ngezinzuzo zemithi yezifo ezi...  \n",
       "9               so on occasion are statistics misused  \n",
       "10  janewari la ngwaga ofe kapa dikholego tša gago...  "
      ]
     },
     "execution_count": 66,
     "metadata": {},
     "output_type": "execute_result"
    }
   ],
   "source": [
    "test.head(11)"
   ]
  },
  {
   "cell_type": "code",
   "execution_count": 67,
   "metadata": {},
   "outputs": [
    {
     "data": {
      "text/plain": [
       "ssw    3000\n",
       "tsn    3000\n",
       "afr    3000\n",
       "zul    3000\n",
       "xho    3000\n",
       "nso    3000\n",
       "ven    3000\n",
       "sot    3000\n",
       "tso    3000\n",
       "nbl    3000\n",
       "eng    3000\n",
       "Name: lang_id, dtype: int64"
      ]
     },
     "execution_count": 67,
     "metadata": {},
     "output_type": "execute_result"
    }
   ],
   "source": [
    "train.lang_id.value_counts()"
   ]
  },
  {
   "cell_type": "code",
   "execution_count": 68,
   "metadata": {},
   "outputs": [],
   "source": [
    "X = train['text']\n",
    "y = train['lang_id'] \n",
    "\n",
    "\n",
    "X_train, X_test, y_train, y_test = train_test_split(X, y, test_size = 0.1, random_state = 0)"
   ]
  },
  {
   "cell_type": "code",
   "execution_count": 69,
   "metadata": {},
   "outputs": [],
   "source": [
    "tfidf = TfidfVectorizer(ngram_range=(3,6),analyzer='char') "
   ]
  },
  {
   "cell_type": "code",
   "execution_count": 70,
   "metadata": {},
   "outputs": [
    {
     "name": "stderr",
     "output_type": "stream",
     "text": [
      "C:\\Users\\sihle\\Anaconda3\\lib\\site-packages\\sklearn\\svm\\_base.py:976: ConvergenceWarning: Liblinear failed to converge, increase the number of iterations.\n",
      "  warnings.warn(\"Liblinear failed to converge, increase \"\n"
     ]
    },
    {
     "name": "stdout",
     "output_type": "stream",
     "text": [
      "accuracy 0.9993939393939394\n",
      "f1_score 0.9993939934069507\n",
      "              precision    recall  f1-score   support\n",
      "\n",
      "         afr       1.00      1.00      1.00       300\n",
      "         eng       1.00      1.00      1.00       272\n",
      "         nbl       1.00      1.00      1.00       312\n",
      "         nso       1.00      1.00      1.00       277\n",
      "         sot       1.00      1.00      1.00       299\n",
      "         ssw       1.00      1.00      1.00       320\n",
      "         tsn       1.00      1.00      1.00       295\n",
      "         tso       1.00      1.00      1.00       299\n",
      "         ven       1.00      1.00      1.00       306\n",
      "         xho       1.00      1.00      1.00       308\n",
      "         zul       1.00      1.00      1.00       312\n",
      "\n",
      "    accuracy                           1.00      3300\n",
      "   macro avg       1.00      1.00      1.00      3300\n",
      "weighted avg       1.00      1.00      1.00      3300\n",
      "\n"
     ]
    }
   ],
   "source": [
    "lsvc = LinearSVC(C=100, class_weight='balanced',random_state=42)\n",
    "clf_lsvc = Pipeline([('tfidf', tfidf), ('clf', lsvc)])\n",
    "clf_lsvc.fit(X_train, y_train)\n",
    "y_pred_lsvc = clf_lsvc.predict(X_test)\n",
    "print('accuracy %s' % accuracy_score(y_pred_lsvc, y_test))\n",
    "print('f1_score %s' % metrics.f1_score(y_test,y_pred_lsvc,average='weighted'))\n",
    "print(classification_report(y_test, y_pred_lsvc))"
   ]
  },
  {
   "cell_type": "code",
   "execution_count": 73,
   "metadata": {},
   "outputs": [
    {
     "data": {
      "text/plain": [
       "array(['tsn', 'nbl', 'ven', ..., 'sot', 'sot', 'nbl'], dtype=object)"
      ]
     },
     "execution_count": 73,
     "metadata": {},
     "output_type": "execute_result"
    }
   ],
   "source": [
    "y_test_pred_lsvc= clf_lsvc.predict(test['text'])\n",
    "\n",
    "prediction_lsvc = pd.DataFrame({'index':test['index'],\n",
    "                          'lang_id':y_test_pred_lsvc})\n",
    "\n",
    "prediction_lsvc.to_csv('classification_lsvc3.csv',index=False)\n",
    "y_test_pred_lsvc"
   ]
  },
  {
   "cell_type": "code",
   "execution_count": 74,
   "metadata": {},
   "outputs": [
    {
     "name": "stdout",
     "output_type": "stream",
     "text": [
      "accuracy 1.0\n",
      "f1_score 1.0\n",
      "              precision    recall  f1-score   support\n",
      "\n",
      "         afr       1.00      1.00      1.00       300\n",
      "         eng       1.00      1.00      1.00       272\n",
      "         nbl       1.00      1.00      1.00       312\n",
      "         nso       1.00      1.00      1.00       277\n",
      "         sot       1.00      1.00      1.00       299\n",
      "         ssw       1.00      1.00      1.00       320\n",
      "         tsn       1.00      1.00      1.00       295\n",
      "         tso       1.00      1.00      1.00       299\n",
      "         ven       1.00      1.00      1.00       306\n",
      "         xho       1.00      1.00      1.00       308\n",
      "         zul       1.00      1.00      1.00       312\n",
      "\n",
      "    accuracy                           1.00      3300\n",
      "   macro avg       1.00      1.00      1.00      3300\n",
      "weighted avg       1.00      1.00      1.00      3300\n",
      "\n"
     ]
    }
   ],
   "source": [
    "nb = MultinomialNB()\n",
    "clf_nb= Pipeline([('tfidf', tfidf), ('clf', nb)])\n",
    "clf_nb.fit(X_train, y_train)\n",
    "y_pred_nb = clf_nb.predict(X_test)\n",
    "print('accuracy %s' % accuracy_score(y_pred_nb, y_test))\n",
    "print('f1_score %s' % metrics.f1_score(y_test,y_pred_nb,average='weighted'))\n",
    "print(classification_report(y_test, y_pred_nb))"
   ]
  },
  {
   "cell_type": "code",
   "execution_count": 78,
   "metadata": {},
   "outputs": [
    {
     "data": {
      "text/plain": [
       "array(['tsn', 'nbl', 'ven', ..., 'sot', 'sot', 'nbl'], dtype='<U3')"
      ]
     },
     "execution_count": 78,
     "metadata": {},
     "output_type": "execute_result"
    }
   ],
   "source": [
    "y_test_pred_NB= clf_nb.predict(test['text'])\n",
    "\n",
    "NB = pd.DataFrame({'index':test['index'],\n",
    "                          'lang_id':y_test_pred_NB})\n",
    "\n",
    "NB.to_csv('NB.csv',index=False)\n",
    "y_test_pred_NB"
   ]
  },
  {
   "cell_type": "code",
   "execution_count": null,
   "metadata": {},
   "outputs": [],
   "source": []
  }
 ],
 "metadata": {
  "kernelspec": {
   "display_name": "Python 3",
   "language": "python",
   "name": "python3"
  },
  "language_info": {
   "codemirror_mode": {
    "name": "ipython",
    "version": 3
   },
   "file_extension": ".py",
   "mimetype": "text/x-python",
   "name": "python",
   "nbconvert_exporter": "python",
   "pygments_lexer": "ipython3",
   "version": "3.8.5"
  }
 },
 "nbformat": 4,
 "nbformat_minor": 4
}
