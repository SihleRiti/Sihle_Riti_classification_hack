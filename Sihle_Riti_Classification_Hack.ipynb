{
 "cells": [
  {
   "cell_type": "markdown",
   "metadata": {},
   "source": [
    "### Sihle_Riti_Classification_Hack"
   ]
  },
  {
   "cell_type": "markdown",
   "metadata": {},
   "source": [
    "## 1. Introduction\n",
    "\n",
    "South Africa is a multicultural society that is characterised by its rich linguistic diversity. Language is an indispensable tool that can be used to deepen democracy and also contribute to the social, cultural, intellectual, economic and political life of the South African society."
   ]
  },
  {
   "cell_type": "code",
   "execution_count": 144,
   "metadata": {},
   "outputs": [],
   "source": [
    "# Standard\n",
    "import pandas as pd\n",
    "import numpy as np\n",
    "import time\n",
    "import seaborn as sns\n",
    "import matplotlib.pyplot as plt\n",
    "%matplotlib inline\n",
    "\n",
    "# Natural language Processing\n",
    "import nltk\n",
    "import string\n",
    "import re\n",
    "from sklearn.utils import resample\n",
    "from nltk.stem import WordNetLemmatizer\n",
    "from nltk.corpus import stopwords\n",
    "from sklearn.pipeline import Pipeline\n",
    "from sklearn.feature_extraction.text import TfidfVectorizer\n",
    "\n",
    "# Models\n",
    "from sklearn.svm import LinearSVC\n",
    "from sklearn.naive_bayes import MultinomialNB\n",
    "from sklearn.tree import DecisionTreeClassifier\n",
    "from sklearn.neighbors import KNeighborsClassifier\n",
    "from sklearn.model_selection import train_test_split, KFold\n",
    "from sklearn.linear_model import LogisticRegression, SGDClassifier, RidgeClassifier\n",
    "from sklearn.model_selection import cross_val_score, GridSearchCV, RepeatedStratifiedKFold\n",
    "from sklearn.ensemble import RandomForestClassifier, AdaBoostClassifier, ExtraTreesClassifier, StackingClassifier\n",
    "\n",
    "from sklearn.metrics import classification_report, confusion_matrix, accuracy_score, f1_score, precision_score, recall_score\n",
    "\n",
    "# Performance\n",
    "from sklearn.metrics import f1_score\n",
    "from sklearn import metrics\n",
    "\n",
    "# Exploratory Data Analysis\n",
    "from sklearn.feature_extraction.text import CountVectorizer\n",
    "from wordcloud import WordCloud, STOPWORDS"
   ]
  },
  {
   "cell_type": "markdown",
   "metadata": {},
   "source": [
    "## 2: Import libraries and datasets¶"
   ]
  },
  {
   "cell_type": "code",
   "execution_count": 145,
   "metadata": {},
   "outputs": [],
   "source": [
    "train = pd.read_csv('train_set.csv')\n",
    "test = pd.read_csv('test_set.csv')\n",
    "sample = pd.read_csv('sample_submission.csv')"
   ]
  },
  {
   "cell_type": "code",
   "execution_count": 146,
   "metadata": {},
   "outputs": [
    {
     "data": {
      "text/html": [
       "<div>\n",
       "<style scoped>\n",
       "    .dataframe tbody tr th:only-of-type {\n",
       "        vertical-align: middle;\n",
       "    }\n",
       "\n",
       "    .dataframe tbody tr th {\n",
       "        vertical-align: top;\n",
       "    }\n",
       "\n",
       "    .dataframe thead th {\n",
       "        text-align: right;\n",
       "    }\n",
       "</style>\n",
       "<table border=\"1\" class=\"dataframe\">\n",
       "  <thead>\n",
       "    <tr style=\"text-align: right;\">\n",
       "      <th></th>\n",
       "      <th>lang_id</th>\n",
       "      <th>text</th>\n",
       "    </tr>\n",
       "  </thead>\n",
       "  <tbody>\n",
       "    <tr>\n",
       "      <th>0</th>\n",
       "      <td>xho</td>\n",
       "      <td>umgaqo-siseko wenza amalungiselelo kumaziko ax...</td>\n",
       "    </tr>\n",
       "    <tr>\n",
       "      <th>1</th>\n",
       "      <td>xho</td>\n",
       "      <td>i-dha iya kuba nobulumko bokubeka umsebenzi na...</td>\n",
       "    </tr>\n",
       "    <tr>\n",
       "      <th>2</th>\n",
       "      <td>eng</td>\n",
       "      <td>the province of kwazulu-natal department of tr...</td>\n",
       "    </tr>\n",
       "    <tr>\n",
       "      <th>3</th>\n",
       "      <td>nso</td>\n",
       "      <td>o netefatša gore o ba file dilo ka moka tše le...</td>\n",
       "    </tr>\n",
       "    <tr>\n",
       "      <th>4</th>\n",
       "      <td>ven</td>\n",
       "      <td>khomishini ya ndinganyiso ya mbeu yo ewa maana...</td>\n",
       "    </tr>\n",
       "    <tr>\n",
       "      <th>5</th>\n",
       "      <td>nso</td>\n",
       "      <td>dinyakišišo tše tša go dirwa gabedi ka ngwaga ...</td>\n",
       "    </tr>\n",
       "    <tr>\n",
       "      <th>6</th>\n",
       "      <td>tsn</td>\n",
       "      <td>kgetse nngwe le nngwe e e sa faposiwang mo tsh...</td>\n",
       "    </tr>\n",
       "    <tr>\n",
       "      <th>7</th>\n",
       "      <td>ven</td>\n",
       "      <td>mbadelo dze dza laelwa dzi do kwama mahatulele...</td>\n",
       "    </tr>\n",
       "    <tr>\n",
       "      <th>8</th>\n",
       "      <td>nso</td>\n",
       "      <td>maloko a dikhuduthamaga a ikarabela mongwe le ...</td>\n",
       "    </tr>\n",
       "    <tr>\n",
       "      <th>9</th>\n",
       "      <td>tsn</td>\n",
       "      <td>fa le dirisiwa lebone le tshwanetse go bontsha...</td>\n",
       "    </tr>\n",
       "    <tr>\n",
       "      <th>10</th>\n",
       "      <td>nbl</td>\n",
       "      <td>lapho inarha yangeqadi ingenwe ngokungasimthet...</td>\n",
       "    </tr>\n",
       "  </tbody>\n",
       "</table>\n",
       "</div>"
      ],
      "text/plain": [
       "   lang_id                                               text\n",
       "0      xho  umgaqo-siseko wenza amalungiselelo kumaziko ax...\n",
       "1      xho  i-dha iya kuba nobulumko bokubeka umsebenzi na...\n",
       "2      eng  the province of kwazulu-natal department of tr...\n",
       "3      nso  o netefatša gore o ba file dilo ka moka tše le...\n",
       "4      ven  khomishini ya ndinganyiso ya mbeu yo ewa maana...\n",
       "5      nso  dinyakišišo tše tša go dirwa gabedi ka ngwaga ...\n",
       "6      tsn  kgetse nngwe le nngwe e e sa faposiwang mo tsh...\n",
       "7      ven  mbadelo dze dza laelwa dzi do kwama mahatulele...\n",
       "8      nso  maloko a dikhuduthamaga a ikarabela mongwe le ...\n",
       "9      tsn  fa le dirisiwa lebone le tshwanetse go bontsha...\n",
       "10     nbl  lapho inarha yangeqadi ingenwe ngokungasimthet..."
      ]
     },
     "execution_count": 146,
     "metadata": {},
     "output_type": "execute_result"
    }
   ],
   "source": [
    "train.head(11)"
   ]
  },
  {
   "cell_type": "code",
   "execution_count": 147,
   "metadata": {},
   "outputs": [
    {
     "data": {
      "text/html": [
       "<div>\n",
       "<style scoped>\n",
       "    .dataframe tbody tr th:only-of-type {\n",
       "        vertical-align: middle;\n",
       "    }\n",
       "\n",
       "    .dataframe tbody tr th {\n",
       "        vertical-align: top;\n",
       "    }\n",
       "\n",
       "    .dataframe thead th {\n",
       "        text-align: right;\n",
       "    }\n",
       "</style>\n",
       "<table border=\"1\" class=\"dataframe\">\n",
       "  <thead>\n",
       "    <tr style=\"text-align: right;\">\n",
       "      <th></th>\n",
       "      <th>index</th>\n",
       "      <th>text</th>\n",
       "    </tr>\n",
       "  </thead>\n",
       "  <tbody>\n",
       "    <tr>\n",
       "      <th>0</th>\n",
       "      <td>1</td>\n",
       "      <td>Mmasepala, fa maemo a a kgethegileng a letlele...</td>\n",
       "    </tr>\n",
       "    <tr>\n",
       "      <th>1</th>\n",
       "      <td>2</td>\n",
       "      <td>Uzakwaziswa ngokufaneleko nakungafuneka eminye...</td>\n",
       "    </tr>\n",
       "    <tr>\n",
       "      <th>2</th>\n",
       "      <td>3</td>\n",
       "      <td>Tshivhumbeo tshi fana na ngano dza vhathu.</td>\n",
       "    </tr>\n",
       "    <tr>\n",
       "      <th>3</th>\n",
       "      <td>4</td>\n",
       "      <td>Kube inja nelikati betingevakala kutsi titsini...</td>\n",
       "    </tr>\n",
       "    <tr>\n",
       "      <th>4</th>\n",
       "      <td>5</td>\n",
       "      <td>Winste op buitelandse valuta.</td>\n",
       "    </tr>\n",
       "    <tr>\n",
       "      <th>5</th>\n",
       "      <td>6</td>\n",
       "      <td>Ke feela dilense tše hlakilego, tša pono e tee...</td>\n",
       "    </tr>\n",
       "    <tr>\n",
       "      <th>6</th>\n",
       "      <td>7</td>\n",
       "      <td>&lt;fn&gt;(762010101403 AM) 1495 Final Gems Birthing...</td>\n",
       "    </tr>\n",
       "    <tr>\n",
       "      <th>7</th>\n",
       "      <td>8</td>\n",
       "      <td>Ntjhafatso ya konteraka ya mosebetsi: Etsa bon...</td>\n",
       "    </tr>\n",
       "    <tr>\n",
       "      <th>8</th>\n",
       "      <td>9</td>\n",
       "      <td>u-GEMS uhlinzeka ngezinzuzo zemithi yezifo ezi...</td>\n",
       "    </tr>\n",
       "    <tr>\n",
       "      <th>9</th>\n",
       "      <td>10</td>\n",
       "      <td>So, on occasion, are statistics misused.</td>\n",
       "    </tr>\n",
       "    <tr>\n",
       "      <th>10</th>\n",
       "      <td>11</td>\n",
       "      <td>Janewari la ngwaga ofe kapa, dikholego tša gag...</td>\n",
       "    </tr>\n",
       "  </tbody>\n",
       "</table>\n",
       "</div>"
      ],
      "text/plain": [
       "    index                                               text\n",
       "0       1  Mmasepala, fa maemo a a kgethegileng a letlele...\n",
       "1       2  Uzakwaziswa ngokufaneleko nakungafuneka eminye...\n",
       "2       3         Tshivhumbeo tshi fana na ngano dza vhathu.\n",
       "3       4  Kube inja nelikati betingevakala kutsi titsini...\n",
       "4       5                      Winste op buitelandse valuta.\n",
       "5       6  Ke feela dilense tše hlakilego, tša pono e tee...\n",
       "6       7  <fn>(762010101403 AM) 1495 Final Gems Birthing...\n",
       "7       8  Ntjhafatso ya konteraka ya mosebetsi: Etsa bon...\n",
       "8       9  u-GEMS uhlinzeka ngezinzuzo zemithi yezifo ezi...\n",
       "9      10           So, on occasion, are statistics misused.\n",
       "10     11  Janewari la ngwaga ofe kapa, dikholego tša gag..."
      ]
     },
     "execution_count": 147,
     "metadata": {},
     "output_type": "execute_result"
    }
   ],
   "source": [
    "test.head(11)"
   ]
  },
  {
   "cell_type": "code",
   "execution_count": 148,
   "metadata": {},
   "outputs": [
    {
     "data": {
      "text/html": [
       "<div>\n",
       "<style scoped>\n",
       "    .dataframe tbody tr th:only-of-type {\n",
       "        vertical-align: middle;\n",
       "    }\n",
       "\n",
       "    .dataframe tbody tr th {\n",
       "        vertical-align: top;\n",
       "    }\n",
       "\n",
       "    .dataframe thead th {\n",
       "        text-align: right;\n",
       "    }\n",
       "</style>\n",
       "<table border=\"1\" class=\"dataframe\">\n",
       "  <thead>\n",
       "    <tr style=\"text-align: right;\">\n",
       "      <th></th>\n",
       "      <th>index</th>\n",
       "      <th>lang_id</th>\n",
       "    </tr>\n",
       "  </thead>\n",
       "  <tbody>\n",
       "    <tr>\n",
       "      <th>0</th>\n",
       "      <td>1</td>\n",
       "      <td>tsn</td>\n",
       "    </tr>\n",
       "    <tr>\n",
       "      <th>1</th>\n",
       "      <td>2</td>\n",
       "      <td>nbl</td>\n",
       "    </tr>\n",
       "  </tbody>\n",
       "</table>\n",
       "</div>"
      ],
      "text/plain": [
       "   index lang_id\n",
       "0      1     tsn\n",
       "1      2     nbl"
      ]
     },
     "execution_count": 148,
     "metadata": {},
     "output_type": "execute_result"
    }
   ],
   "source": [
    "sample.head()"
   ]
  },
  {
   "cell_type": "markdown",
   "metadata": {},
   "source": [
    "### Function below for cleaning the data:\n",
    "\n",
    "Remove 'noisy entities' such as punctuations, numbers and extra white space. The data is further normalized by converting all letters to lowercase."
   ]
  },
  {
   "cell_type": "code",
   "execution_count": 149,
   "metadata": {},
   "outputs": [],
   "source": [
    "def clean_text(text):\n",
    "\n",
    "    # change all words into lower case\n",
    "    text = text.lower()\n",
    "    \n",
    "    # removing all punctuation and digits\n",
    "    text = re.sub(r'[-]',' ', text)\n",
    "    text = re.sub(r'[_]', ' ',  text)\n",
    "    text = re.sub(r'[^\\w\\s]','', text)\n",
    "    text = re.sub('[0-9]+', '',  text) \n",
    "    text = re.sub(r'[!\"#$%&()*+,-./:;<=>?@[\\]^_`{|}~âã¢¬¦¢’‘‚…]', ' ',  text)\n",
    "    text = re.sub(\"â|ã\", \" \",  text)  # removes strange character \n",
    "    text = re.sub(\"\\\\s+\", \" \",  text)  # fills white spaces\n",
    "    text =  text.lstrip()  # removes whitespaces before string\n",
    "    text =  text.rstrip()  # removes whitespaces after string \n",
    "    \n",
    "\n",
    "    text = re.sub(\"â|ã\", \" \", text)  # removes strange character    \n",
    "    text = re.sub(\"\\\\s+\", \" \", text)  # fills white spaces\n",
    "    text = text.lstrip()  # removes whitespaces before string\n",
    "    text = text.rstrip()  # removes whitespaces after string \n",
    "    return text"
   ]
  },
  {
   "cell_type": "code",
   "execution_count": 150,
   "metadata": {},
   "outputs": [],
   "source": [
    "#Apply the clean function to our train and test data\n",
    "train['clean_text']=train['text'].apply(clean_text)\n",
    "test['clean_text']=test['text'].apply(clean_text)"
   ]
  },
  {
   "cell_type": "code",
   "execution_count": 151,
   "metadata": {},
   "outputs": [
    {
     "data": {
      "text/html": [
       "<div>\n",
       "<style scoped>\n",
       "    .dataframe tbody tr th:only-of-type {\n",
       "        vertical-align: middle;\n",
       "    }\n",
       "\n",
       "    .dataframe tbody tr th {\n",
       "        vertical-align: top;\n",
       "    }\n",
       "\n",
       "    .dataframe thead th {\n",
       "        text-align: right;\n",
       "    }\n",
       "</style>\n",
       "<table border=\"1\" class=\"dataframe\">\n",
       "  <thead>\n",
       "    <tr style=\"text-align: right;\">\n",
       "      <th></th>\n",
       "      <th>lang_id</th>\n",
       "      <th>text</th>\n",
       "      <th>clean_text</th>\n",
       "    </tr>\n",
       "  </thead>\n",
       "  <tbody>\n",
       "    <tr>\n",
       "      <th>0</th>\n",
       "      <td>xho</td>\n",
       "      <td>umgaqo-siseko wenza amalungiselelo kumaziko ax...</td>\n",
       "      <td>umgaqo siseko wenza amalungiselelo kumaziko ax...</td>\n",
       "    </tr>\n",
       "    <tr>\n",
       "      <th>1</th>\n",
       "      <td>xho</td>\n",
       "      <td>i-dha iya kuba nobulumko bokubeka umsebenzi na...</td>\n",
       "      <td>i dha iya kuba nobulumko bokubeka umsebenzi na...</td>\n",
       "    </tr>\n",
       "    <tr>\n",
       "      <th>2</th>\n",
       "      <td>eng</td>\n",
       "      <td>the province of kwazulu-natal department of tr...</td>\n",
       "      <td>the province of kwazulu natal department of tr...</td>\n",
       "    </tr>\n",
       "    <tr>\n",
       "      <th>3</th>\n",
       "      <td>nso</td>\n",
       "      <td>o netefatša gore o ba file dilo ka moka tše le...</td>\n",
       "      <td>o netefatša gore o ba file dilo ka moka tše le...</td>\n",
       "    </tr>\n",
       "    <tr>\n",
       "      <th>4</th>\n",
       "      <td>ven</td>\n",
       "      <td>khomishini ya ndinganyiso ya mbeu yo ewa maana...</td>\n",
       "      <td>khomishini ya ndinganyiso ya mbeu yo ewa maana...</td>\n",
       "    </tr>\n",
       "    <tr>\n",
       "      <th>5</th>\n",
       "      <td>nso</td>\n",
       "      <td>dinyakišišo tše tša go dirwa gabedi ka ngwaga ...</td>\n",
       "      <td>dinyakišišo tše tša go dirwa gabedi ka ngwaga ...</td>\n",
       "    </tr>\n",
       "    <tr>\n",
       "      <th>6</th>\n",
       "      <td>tsn</td>\n",
       "      <td>kgetse nngwe le nngwe e e sa faposiwang mo tsh...</td>\n",
       "      <td>kgetse nngwe le nngwe e e sa faposiwang mo tsh...</td>\n",
       "    </tr>\n",
       "    <tr>\n",
       "      <th>7</th>\n",
       "      <td>ven</td>\n",
       "      <td>mbadelo dze dza laelwa dzi do kwama mahatulele...</td>\n",
       "      <td>mbadelo dze dza laelwa dzi do kwama mahatulele...</td>\n",
       "    </tr>\n",
       "    <tr>\n",
       "      <th>8</th>\n",
       "      <td>nso</td>\n",
       "      <td>maloko a dikhuduthamaga a ikarabela mongwe le ...</td>\n",
       "      <td>maloko a dikhuduthamaga a ikarabela mongwe le ...</td>\n",
       "    </tr>\n",
       "    <tr>\n",
       "      <th>9</th>\n",
       "      <td>tsn</td>\n",
       "      <td>fa le dirisiwa lebone le tshwanetse go bontsha...</td>\n",
       "      <td>fa le dirisiwa lebone le tshwanetse go bontsha...</td>\n",
       "    </tr>\n",
       "    <tr>\n",
       "      <th>10</th>\n",
       "      <td>nbl</td>\n",
       "      <td>lapho inarha yangeqadi ingenwe ngokungasimthet...</td>\n",
       "      <td>lapho inarha yangeqadi ingenwe ngokungasimthet...</td>\n",
       "    </tr>\n",
       "  </tbody>\n",
       "</table>\n",
       "</div>"
      ],
      "text/plain": [
       "   lang_id                                               text  \\\n",
       "0      xho  umgaqo-siseko wenza amalungiselelo kumaziko ax...   \n",
       "1      xho  i-dha iya kuba nobulumko bokubeka umsebenzi na...   \n",
       "2      eng  the province of kwazulu-natal department of tr...   \n",
       "3      nso  o netefatša gore o ba file dilo ka moka tše le...   \n",
       "4      ven  khomishini ya ndinganyiso ya mbeu yo ewa maana...   \n",
       "5      nso  dinyakišišo tše tša go dirwa gabedi ka ngwaga ...   \n",
       "6      tsn  kgetse nngwe le nngwe e e sa faposiwang mo tsh...   \n",
       "7      ven  mbadelo dze dza laelwa dzi do kwama mahatulele...   \n",
       "8      nso  maloko a dikhuduthamaga a ikarabela mongwe le ...   \n",
       "9      tsn  fa le dirisiwa lebone le tshwanetse go bontsha...   \n",
       "10     nbl  lapho inarha yangeqadi ingenwe ngokungasimthet...   \n",
       "\n",
       "                                           clean_text  \n",
       "0   umgaqo siseko wenza amalungiselelo kumaziko ax...  \n",
       "1   i dha iya kuba nobulumko bokubeka umsebenzi na...  \n",
       "2   the province of kwazulu natal department of tr...  \n",
       "3   o netefatša gore o ba file dilo ka moka tše le...  \n",
       "4   khomishini ya ndinganyiso ya mbeu yo ewa maana...  \n",
       "5   dinyakišišo tše tša go dirwa gabedi ka ngwaga ...  \n",
       "6   kgetse nngwe le nngwe e e sa faposiwang mo tsh...  \n",
       "7   mbadelo dze dza laelwa dzi do kwama mahatulele...  \n",
       "8   maloko a dikhuduthamaga a ikarabela mongwe le ...  \n",
       "9   fa le dirisiwa lebone le tshwanetse go bontsha...  \n",
       "10  lapho inarha yangeqadi ingenwe ngokungasimthet...  "
      ]
     },
     "execution_count": 151,
     "metadata": {},
     "output_type": "execute_result"
    }
   ],
   "source": [
    "train.head(11)"
   ]
  },
  {
   "cell_type": "code",
   "execution_count": 152,
   "metadata": {},
   "outputs": [
    {
     "data": {
      "text/html": [
       "<div>\n",
       "<style scoped>\n",
       "    .dataframe tbody tr th:only-of-type {\n",
       "        vertical-align: middle;\n",
       "    }\n",
       "\n",
       "    .dataframe tbody tr th {\n",
       "        vertical-align: top;\n",
       "    }\n",
       "\n",
       "    .dataframe thead th {\n",
       "        text-align: right;\n",
       "    }\n",
       "</style>\n",
       "<table border=\"1\" class=\"dataframe\">\n",
       "  <thead>\n",
       "    <tr style=\"text-align: right;\">\n",
       "      <th></th>\n",
       "      <th>index</th>\n",
       "      <th>text</th>\n",
       "      <th>clean_text</th>\n",
       "    </tr>\n",
       "  </thead>\n",
       "  <tbody>\n",
       "    <tr>\n",
       "      <th>0</th>\n",
       "      <td>1</td>\n",
       "      <td>Mmasepala, fa maemo a a kgethegileng a letlele...</td>\n",
       "      <td>mmasepala fa maemo a a kgethegileng a letlelel...</td>\n",
       "    </tr>\n",
       "    <tr>\n",
       "      <th>1</th>\n",
       "      <td>2</td>\n",
       "      <td>Uzakwaziswa ngokufaneleko nakungafuneka eminye...</td>\n",
       "      <td>uzakwaziswa ngokufaneleko nakungafuneka eminye...</td>\n",
       "    </tr>\n",
       "    <tr>\n",
       "      <th>2</th>\n",
       "      <td>3</td>\n",
       "      <td>Tshivhumbeo tshi fana na ngano dza vhathu.</td>\n",
       "      <td>tshivhumbeo tshi fana na ngano dza vhathu</td>\n",
       "    </tr>\n",
       "    <tr>\n",
       "      <th>3</th>\n",
       "      <td>4</td>\n",
       "      <td>Kube inja nelikati betingevakala kutsi titsini...</td>\n",
       "      <td>kube inja nelikati betingevakala kutsi titsini...</td>\n",
       "    </tr>\n",
       "    <tr>\n",
       "      <th>4</th>\n",
       "      <td>5</td>\n",
       "      <td>Winste op buitelandse valuta.</td>\n",
       "      <td>winste op buitelandse valuta</td>\n",
       "    </tr>\n",
       "    <tr>\n",
       "      <th>5</th>\n",
       "      <td>6</td>\n",
       "      <td>Ke feela dilense tše hlakilego, tša pono e tee...</td>\n",
       "      <td>ke feela dilense tše hlakilego tša pono e tee ...</td>\n",
       "    </tr>\n",
       "    <tr>\n",
       "      <th>6</th>\n",
       "      <td>7</td>\n",
       "      <td>&lt;fn&gt;(762010101403 AM) 1495 Final Gems Birthing...</td>\n",
       "      <td>fn am final gems birthing options zulutxtfn</td>\n",
       "    </tr>\n",
       "    <tr>\n",
       "      <th>7</th>\n",
       "      <td>8</td>\n",
       "      <td>Ntjhafatso ya konteraka ya mosebetsi: Etsa bon...</td>\n",
       "      <td>ntjhafatso ya konteraka ya mosebetsi etsa bonn...</td>\n",
       "    </tr>\n",
       "    <tr>\n",
       "      <th>8</th>\n",
       "      <td>9</td>\n",
       "      <td>u-GEMS uhlinzeka ngezinzuzo zemithi yezifo ezi...</td>\n",
       "      <td>u gems uhlinzeka ngezinzuzo zemithi yezifo ezi...</td>\n",
       "    </tr>\n",
       "    <tr>\n",
       "      <th>9</th>\n",
       "      <td>10</td>\n",
       "      <td>So, on occasion, are statistics misused.</td>\n",
       "      <td>so on occasion are statistics misused</td>\n",
       "    </tr>\n",
       "    <tr>\n",
       "      <th>10</th>\n",
       "      <td>11</td>\n",
       "      <td>Janewari la ngwaga ofe kapa, dikholego tša gag...</td>\n",
       "      <td>janewari la ngwaga ofe kapa dikholego tša gago...</td>\n",
       "    </tr>\n",
       "  </tbody>\n",
       "</table>\n",
       "</div>"
      ],
      "text/plain": [
       "    index                                               text  \\\n",
       "0       1  Mmasepala, fa maemo a a kgethegileng a letlele...   \n",
       "1       2  Uzakwaziswa ngokufaneleko nakungafuneka eminye...   \n",
       "2       3         Tshivhumbeo tshi fana na ngano dza vhathu.   \n",
       "3       4  Kube inja nelikati betingevakala kutsi titsini...   \n",
       "4       5                      Winste op buitelandse valuta.   \n",
       "5       6  Ke feela dilense tše hlakilego, tša pono e tee...   \n",
       "6       7  <fn>(762010101403 AM) 1495 Final Gems Birthing...   \n",
       "7       8  Ntjhafatso ya konteraka ya mosebetsi: Etsa bon...   \n",
       "8       9  u-GEMS uhlinzeka ngezinzuzo zemithi yezifo ezi...   \n",
       "9      10           So, on occasion, are statistics misused.   \n",
       "10     11  Janewari la ngwaga ofe kapa, dikholego tša gag...   \n",
       "\n",
       "                                           clean_text  \n",
       "0   mmasepala fa maemo a a kgethegileng a letlelel...  \n",
       "1   uzakwaziswa ngokufaneleko nakungafuneka eminye...  \n",
       "2           tshivhumbeo tshi fana na ngano dza vhathu  \n",
       "3   kube inja nelikati betingevakala kutsi titsini...  \n",
       "4                        winste op buitelandse valuta  \n",
       "5   ke feela dilense tše hlakilego tša pono e tee ...  \n",
       "6         fn am final gems birthing options zulutxtfn  \n",
       "7   ntjhafatso ya konteraka ya mosebetsi etsa bonn...  \n",
       "8   u gems uhlinzeka ngezinzuzo zemithi yezifo ezi...  \n",
       "9               so on occasion are statistics misused  \n",
       "10  janewari la ngwaga ofe kapa dikholego tša gago...  "
      ]
     },
     "execution_count": 152,
     "metadata": {},
     "output_type": "execute_result"
    }
   ],
   "source": [
    "test.head(11)"
   ]
  },
  {
   "cell_type": "code",
   "execution_count": 153,
   "metadata": {},
   "outputs": [
    {
     "data": {
      "text/plain": [
       "nso    3000\n",
       "xho    3000\n",
       "tso    3000\n",
       "ssw    3000\n",
       "sot    3000\n",
       "eng    3000\n",
       "zul    3000\n",
       "ven    3000\n",
       "afr    3000\n",
       "nbl    3000\n",
       "tsn    3000\n",
       "Name: lang_id, dtype: int64"
      ]
     },
     "execution_count": 153,
     "metadata": {},
     "output_type": "execute_result"
    }
   ],
   "source": [
    "train.lang_id.value_counts()"
   ]
  },
  {
   "cell_type": "markdown",
   "metadata": {},
   "source": [
    "# Models"
   ]
  },
  {
   "cell_type": "markdown",
   "metadata": {},
   "source": [
    "We will only look at three  models which are Ridge classifier, Linear SVC classifier and Multinomial Naïve Bayes Classifier"
   ]
  },
  {
   "cell_type": "markdown",
   "metadata": {},
   "source": [
    "### Spliting the data"
   ]
  },
  {
   "cell_type": "code",
   "execution_count": 154,
   "metadata": {},
   "outputs": [],
   "source": [
    "X = train['text']\n",
    "y = train['lang_id'] \n",
    "\n",
    "\n",
    "X_train, X_test, y_train, y_test = train_test_split(X, y, test_size = 0.1, random_state = 0)"
   ]
  },
  {
   "cell_type": "code",
   "execution_count": 155,
   "metadata": {},
   "outputs": [],
   "source": [
    "tfidf = TfidfVectorizer(ngram_range=(3,6),analyzer='char') "
   ]
  },
  {
   "cell_type": "code",
   "execution_count": 156,
   "metadata": {},
   "outputs": [],
   "source": [
    "classifiers = [\n",
    "               LinearSVC(random_state=42),\n",
    "               MultinomialNB(),\n",
    "               RidgeClassifier()\n",
    "    ]"
   ]
  },
  {
   "cell_type": "markdown",
   "metadata": {},
   "source": [
    "## Ridge Classifier "
   ]
  },
  {
   "cell_type": "code",
   "execution_count": 157,
   "metadata": {},
   "outputs": [
    {
     "name": "stdout",
     "output_type": "stream",
     "text": [
      "accuracy 0.9993939393939394\n",
      "f1_score 0.9993939934069507\n",
      "              precision    recall  f1-score   support\n",
      "\n",
      "         afr       1.00      1.00      1.00       300\n",
      "         eng       1.00      1.00      1.00       272\n",
      "         nbl       1.00      1.00      1.00       312\n",
      "         nso       1.00      1.00      1.00       277\n",
      "         sot       1.00      1.00      1.00       299\n",
      "         ssw       1.00      1.00      1.00       320\n",
      "         tsn       1.00      1.00      1.00       295\n",
      "         tso       1.00      1.00      1.00       299\n",
      "         ven       1.00      1.00      1.00       306\n",
      "         xho       1.00      1.00      1.00       308\n",
      "         zul       1.00      1.00      1.00       312\n",
      "\n",
      "    accuracy                           1.00      3300\n",
      "   macro avg       1.00      1.00      1.00      3300\n",
      "weighted avg       1.00      1.00      1.00      3300\n",
      "\n",
      "Wall time: 3min 9s\n",
      "Parser   : 112 ms\n"
     ]
    }
   ],
   "source": [
    "%%time\n",
    "\n",
    "Ridge = RidgeClassifier()\n",
    "clf_Ridge= Pipeline([('tfidf', tfidf), ('clf', Ridge)])\n",
    "clf_Ridge.fit(X_train, y_train)\n",
    "y_pred_Ridge = clf_Ridge.predict(X_test)\n",
    "print('accuracy %s' % accuracy_score(y_pred_Ridge, y_test))\n",
    "print('f1_score %s' % metrics.f1_score(y_test,y_pred_Ridge,average='weighted'))\n",
    "print(classification_report(y_test, y_pred_Ridge))"
   ]
  },
  {
   "cell_type": "markdown",
   "metadata": {},
   "source": [
    "## Predictions Ridge Classifier \n"
   ]
  },
  {
   "cell_type": "code",
   "execution_count": 158,
   "metadata": {},
   "outputs": [
    {
     "name": "stdout",
     "output_type": "stream",
     "text": [
      "Wall time: 6.45 s\n"
     ]
    }
   ],
   "source": [
    "%%time\n",
    "\n",
    "y_test_pred_Ridge= clf_Ridge.predict(test['text'])\n",
    "prediction_Ridge = pd.DataFrame({'index':test['index'],'lang_id':y_test_pred_Ridge})\n",
    "prediction_Ridge.to_csv('classification_RC.csv',index=False)"
   ]
  },
  {
   "cell_type": "markdown",
   "metadata": {},
   "source": [
    "## Linear SVC classifier"
   ]
  },
  {
   "cell_type": "code",
   "execution_count": 159,
   "metadata": {},
   "outputs": [
    {
     "name": "stderr",
     "output_type": "stream",
     "text": [
      "C:\\Users\\sihle\\Anaconda3\\lib\\site-packages\\sklearn\\svm\\_base.py:976: ConvergenceWarning: Liblinear failed to converge, increase the number of iterations.\n",
      "  warnings.warn(\"Liblinear failed to converge, increase \"\n"
     ]
    },
    {
     "name": "stdout",
     "output_type": "stream",
     "text": [
      "accuracy 0.9993939393939394\n",
      "f1_score 0.9993939934069507\n",
      "              precision    recall  f1-score   support\n",
      "\n",
      "         afr       1.00      1.00      1.00       300\n",
      "         eng       1.00      1.00      1.00       272\n",
      "         nbl       1.00      1.00      1.00       312\n",
      "         nso       1.00      1.00      1.00       277\n",
      "         sot       1.00      1.00      1.00       299\n",
      "         ssw       1.00      1.00      1.00       320\n",
      "         tsn       1.00      1.00      1.00       295\n",
      "         tso       1.00      1.00      1.00       299\n",
      "         ven       1.00      1.00      1.00       306\n",
      "         xho       1.00      1.00      1.00       308\n",
      "         zul       1.00      1.00      1.00       312\n",
      "\n",
      "    accuracy                           1.00      3300\n",
      "   macro avg       1.00      1.00      1.00      3300\n",
      "weighted avg       1.00      1.00      1.00      3300\n",
      "\n",
      "Wall time: 3min 40s\n"
     ]
    }
   ],
   "source": [
    "%%time\n",
    "\n",
    "linear = LinearSVC(C=100, class_weight='balanced',random_state=42)\n",
    "clf_linear = Pipeline([('tfidf', tfidf), ('clf', linear)])\n",
    "clf_linear.fit(X_train, y_train)\n",
    "y_pred_linear = clf_linear.predict(X_test)\n",
    "print('accuracy %s' % accuracy_score(y_pred_linear, y_test))\n",
    "print('f1_score %s' % metrics.f1_score(y_test,y_pred_linear,average='weighted'))\n",
    "print(classification_report(y_test, y_pred_linear))"
   ]
  },
  {
   "cell_type": "markdown",
   "metadata": {},
   "source": [
    "## Predictions for Linear SVC classifier"
   ]
  },
  {
   "cell_type": "code",
   "execution_count": 160,
   "metadata": {},
   "outputs": [
    {
     "name": "stdout",
     "output_type": "stream",
     "text": [
      "Wall time: 5.79 s\n"
     ]
    }
   ],
   "source": [
    "%%time\n",
    "\n",
    "y_test_pred_linear= clf_linear.predict(test['text'])\n",
    "prediction_linear = pd.DataFrame({'index':test['index'],'lang_id':y_test_pred_linear})\n",
    "\n",
    "prediction_linear.to_csv('classification_linear.csv',index=False)"
   ]
  },
  {
   "cell_type": "code",
   "execution_count": 161,
   "metadata": {},
   "outputs": [],
   "source": [
    "def model(classifiers, X_train, y_train, X_test, y_test):\n",
    "    \n",
    "    model_summary = {}\n",
    "    \n",
    "   \n",
    "    # Pipeline to balance the classses and then to build the model\n",
    "    for clf in classifiers:\n",
    "        clf_text = Pipeline([('tfidf', TfidfVectorizer(min_df=1,\n",
    "                                                       max_df=0.9,\n",
    "                                                       ngram_range=(1, 2))),\n",
    "                             ('clf', clf)])\n",
    "\n",
    "        # Logging the Execution Time for each model\n",
    "        start_time = time.time()\n",
    "        clf_text.fit(X_train, y_train)\n",
    "        predictions = clf_text.predict(X_test)\n",
    "        run_time = time.time()-start_time\n",
    "\n",
    "        # Output for each model\n",
    "        model_summary[clf.__class__.__name__] = {\n",
    "            'F1-Macro': metrics.f1_score(y_test,\n",
    "                                         predictions,\n",
    "                                         average='macro'),\n",
    "            'F1-Accuracy': metrics.f1_score(y_test, predictions,\n",
    "                                            average='micro'),\n",
    "            'F1-Weighted': metrics.f1_score(y_test,\n",
    "                                            predictions,\n",
    "                                            average='weighted'),\n",
    "            'Execution Time': run_time}\n",
    "\n",
    "    return pd.DataFrame.from_dict(model_summary, orient='index')"
   ]
  },
  {
   "cell_type": "code",
   "execution_count": 162,
   "metadata": {},
   "outputs": [
    {
     "name": "stdout",
     "output_type": "stream",
     "text": [
      "Wall time: 36.3 s\n"
     ]
    },
    {
     "data": {
      "text/html": [
       "<div>\n",
       "<style scoped>\n",
       "    .dataframe tbody tr th:only-of-type {\n",
       "        vertical-align: middle;\n",
       "    }\n",
       "\n",
       "    .dataframe tbody tr th {\n",
       "        vertical-align: top;\n",
       "    }\n",
       "\n",
       "    .dataframe thead th {\n",
       "        text-align: right;\n",
       "    }\n",
       "</style>\n",
       "<table border=\"1\" class=\"dataframe\">\n",
       "  <thead>\n",
       "    <tr style=\"text-align: right;\">\n",
       "      <th></th>\n",
       "      <th>F1-Macro</th>\n",
       "      <th>F1-Accuracy</th>\n",
       "      <th>F1-Weighted</th>\n",
       "      <th>Execution Time</th>\n",
       "    </tr>\n",
       "  </thead>\n",
       "  <tbody>\n",
       "    <tr>\n",
       "      <th>MultinomialNB</th>\n",
       "      <td>0.998479</td>\n",
       "      <td>0.998485</td>\n",
       "      <td>0.998484</td>\n",
       "      <td>6.011174</td>\n",
       "    </tr>\n",
       "    <tr>\n",
       "      <th>RidgeClassifier</th>\n",
       "      <td>0.997622</td>\n",
       "      <td>0.997576</td>\n",
       "      <td>0.997574</td>\n",
       "      <td>18.393857</td>\n",
       "    </tr>\n",
       "    <tr>\n",
       "      <th>LinearSVC</th>\n",
       "      <td>0.997600</td>\n",
       "      <td>0.997576</td>\n",
       "      <td>0.997574</td>\n",
       "      <td>10.187117</td>\n",
       "    </tr>\n",
       "  </tbody>\n",
       "</table>\n",
       "</div>"
      ],
      "text/plain": [
       "                 F1-Macro  F1-Accuracy  F1-Weighted  Execution Time\n",
       "MultinomialNB    0.998479     0.998485     0.998484        6.011174\n",
       "RidgeClassifier  0.997622     0.997576     0.997574       18.393857\n",
       "LinearSVC        0.997600     0.997576     0.997574       10.187117"
      ]
     },
     "execution_count": 162,
     "metadata": {},
     "output_type": "execute_result"
    }
   ],
   "source": [
    "%%time\n",
    "\n",
    "classifiers_df = model(classifiers, X_train, y_train, X_test, y_test)\n",
    "class_df = classifiers_df.sort_values('F1-Macro', ascending=False)\n",
    "class_df"
   ]
  },
  {
   "cell_type": "code",
   "execution_count": 164,
   "metadata": {},
   "outputs": [
    {
     "name": "stdout",
     "output_type": "stream",
     "text": [
      "Wall time: 36.9 ms\n"
     ]
    },
    {
     "data": {
      "text/plain": [
       "<AxesSubplot:>"
      ]
     },
     "execution_count": 164,
     "metadata": {},
     "output_type": "execute_result"
    },
    {
     "data": {
      "image/png": "[encoded data removed]",
      "text/plain": [
       "<Figure size 720x576 with 1 Axes>"
      ]
     },
     "metadata": {
      "needs_background": "light"
     },
     "output_type": "display_data"
    }
   ],
   "source": [
    "%%time\n",
    "\n",
    "classifiers_df.sort_values('F1-Weighted',ascending=True).plot(y='F1-Weighted',\n",
    "                                                            kind='barh', \n",
    "                                                            xlim=[0.2, 0.8], \n",
    "                                                            color= 'purple', \n",
    "                                                            edgecolor = 'Black',\n",
    "                                                            figsize=(10, 8), \n",
    "                                                            fontsize=16)"
   ]
  },
  {
   "cell_type": "markdown",
   "metadata": {},
   "source": [
    "## Multinomial Naïve Bayes Classifier"
   ]
  },
  {
   "cell_type": "code",
   "execution_count": 165,
   "metadata": {},
   "outputs": [
    {
     "name": "stdout",
     "output_type": "stream",
     "text": [
      "accuracy 1.0\n",
      "f1_score 1.0\n",
      "              precision    recall  f1-score   support\n",
      "\n",
      "         afr       1.00      1.00      1.00       300\n",
      "         eng       1.00      1.00      1.00       272\n",
      "         nbl       1.00      1.00      1.00       312\n",
      "         nso       1.00      1.00      1.00       277\n",
      "         sot       1.00      1.00      1.00       299\n",
      "         ssw       1.00      1.00      1.00       320\n",
      "         tsn       1.00      1.00      1.00       295\n",
      "         tso       1.00      1.00      1.00       299\n",
      "         ven       1.00      1.00      1.00       306\n",
      "         xho       1.00      1.00      1.00       308\n",
      "         zul       1.00      1.00      1.00       312\n",
      "\n",
      "    accuracy                           1.00      3300\n",
      "   macro avg       1.00      1.00      1.00      3300\n",
      "weighted avg       1.00      1.00      1.00      3300\n",
      "\n",
      "Wall time: 1min 45s\n"
     ]
    }
   ],
   "source": [
    "%%time\n",
    "\n",
    "Mnb = MultinomialNB()\n",
    "clf_Mnb= Pipeline([('tfidf', tfidf), ('clf', Mnb)])\n",
    "clf_Mnb.fit(X, y)\n",
    "y_pred_Mnb = clf_Mnb.predict(X_test)\n",
    "print('accuracy %s' % accuracy_score(y_pred_Mnb, y_test))\n",
    "print('f1_score %s' % metrics.f1_score(y_test,y_pred_Mnb,average='weighted'))\n",
    "print(classification_report(y_test, y_pred_Mnb))"
   ]
  },
  {
   "cell_type": "markdown",
   "metadata": {},
   "source": [
    "## Predictions for Multinomial Naïve Bayes Classifier"
   ]
  },
  {
   "cell_type": "code",
   "execution_count": 166,
   "metadata": {},
   "outputs": [
    {
     "name": "stdout",
     "output_type": "stream",
     "text": [
      "Wall time: 6.42 s\n"
     ]
    }
   ],
   "source": [
    "%%time\n",
    "\n",
    "y_test_pred_NB= clf_Mnb.predict(test['text'])\n",
    "NB = pd.DataFrame({'index':test['index'],'lang_id':y_test_pred_NB})\n",
    "NB.to_csv('NB.csv',index=False)"
   ]
  },
  {
   "cell_type": "markdown",
   "metadata": {},
   "source": [
    "## Conclusion"
   ]
  },
  {
   "cell_type": "markdown",
   "metadata": {},
   "source": [
    "#### Out Of these three models the best perfoming model is Multinomial Naïve Bayes Classifier "
   ]
  }
 ],
 "metadata": {
  "kernelspec": {
   "display_name": "Python 3",
   "language": "python",
   "name": "python3"
  },
  "language_info": {
   "codemirror_mode": {
    "name": "ipython",
    "version": 3
   },
   "file_extension": ".py",
   "mimetype": "text/x-python",
   "name": "python",
   "nbconvert_exporter": "python",
   "pygments_lexer": "ipython3",
   "version": "3.8.5"
  }
 },
 "nbformat": 4,
 "nbformat_minor": 4
}
